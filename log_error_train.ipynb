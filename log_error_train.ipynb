{
 "cells": [
  {
   "cell_type": "code",
   "execution_count": 39,
   "metadata": {},
   "outputs": [],
   "source": [
    "import numpy as np\n",
    "import pandas as pd\n",
    "import xgboost as xgb\n",
    "from sklearn.preprocessing import LabelEncoder\n",
    "import lightgbm as lgb\n",
    "import gc\n",
    "from sklearn.linear_model import LinearRegression\n",
    "import random\n",
    "import datetime as dt\n",
    "\n",
    "# Parameters\n",
    "XGB_WEIGHT = 0.8000  # Weight of XGB models\n"
   ]
  },
  {
   "cell_type": "code",
   "execution_count": 40,
   "metadata": {},
   "outputs": [
    {
     "name": "stdout",
     "output_type": "stream",
     "text": [
      "Reading data...\n"
     ]
    },
    {
     "name": "stderr",
     "output_type": "stream",
     "text": [
      "/Users/huxuexin/anaconda3/lib/python3.6/site-packages/IPython/core/interactiveshell.py:2785: DtypeWarning: Columns (22,32,34,49,55) have mixed types. Specify dtype option on import or set low_memory=False.\n",
      "  interactivity=interactivity, compiler=compiler, result=result)\n",
      "/Users/huxuexin/anaconda3/lib/python3.6/site-packages/IPython/core/interactiveshell.py:2785: DtypeWarning: Columns (49) have mixed types. Specify dtype option on import or set low_memory=False.\n",
      "  interactivity=interactivity, compiler=compiler, result=result)\n"
     ]
    },
    {
     "name": "stdout",
     "output_type": "stream",
     "text": [
      "finished\n"
     ]
    }
   ],
   "source": [
    "print(\"Reading data...\")\n",
    "#read training data\n",
    "list_p = []\n",
    "list_p.append(pd.read_csv('input/properties_2016.csv'))\n",
    "list_p.append(pd.read_csv('input/properties_2017.csv'))\n",
    "prop = pd.concat(list_p)\n",
    "\n",
    "list_t = []\n",
    "list_t.append(pd.read_csv('input/train_2016_v2.csv'))\n",
    "list_t.append(pd.read_csv('input/train_2017.csv'))\n",
    "train = pd.concat(list_t)\n",
    "print(\"finished\")"
   ]
  },
  {
   "cell_type": "code",
   "execution_count": 41,
   "metadata": {},
   "outputs": [
    {
     "name": "stdout",
     "output_type": "stream",
     "text": [
      "drop out outliers...\n"
     ]
    }
   ],
   "source": [
    "print(\"drop out outliers...\")\n",
    "ulimit = np.percentile(train.logerror.values, 99)\n",
    "llimit = np.percentile(train.logerror.values, 1)\n",
    "train=train[train.logerror < ulimit]\n",
    "train=train[train.logerror > llimit]"
   ]
  },
  {
   "cell_type": "code",
   "execution_count": 42,
   "metadata": {},
   "outputs": [
    {
     "name": "stdout",
     "output_type": "stream",
     "text": [
      "Processing data for LightGBM...\n",
      "(329058, 16) (329058,)\n"
     ]
    }
   ],
   "source": [
    "print( \"Processing data for LightGBM...\" )\n",
    "for c, dtype in zip(prop.columns, prop.dtypes):\t\n",
    "    if dtype == np.float64:\t\t\n",
    "        prop[c] = prop[c].astype(np.float32)\n",
    "\n",
    "df_train = train.merge(prop, how='left', on='parcelid')\n",
    "df_train.fillna(df_train.median(),inplace = True)\n",
    "\n",
    "x_train = df_train[['basementsqft', 'buildingqualitytypeid','threequarterbathnbr','finishedfloor1squarefeet',\n",
    "                    'finishedsquarefeet6','finishedsquarefeet15','fireplacecnt','fullbathcnt','garagecarcnt',\n",
    "                    'garagetotalsqft','lotsizesquarefeet','poolsizesum','roomcnt','yearbuilt','latitude','longitude']]\n",
    "y_train = df_train['logerror'].values\n",
    "print(x_train.shape, y_train.shape)"
   ]
  },
  {
   "cell_type": "code",
   "execution_count": 43,
   "metadata": {},
   "outputs": [],
   "source": [
    "#load training dataset\n",
    "train_columns = x_train.columns\n",
    "\n",
    "for c in x_train.dtypes[x_train.dtypes == object].index.values:\n",
    "    x_train[c] = (x_train[c] == True)\n",
    "\n",
    "x_train = x_train.values.astype(np.float32, copy=False)\n",
    "d_train = lgb.Dataset(x_train, label=y_train)"
   ]
  },
  {
   "cell_type": "code",
   "execution_count": 44,
   "metadata": {},
   "outputs": [
    {
     "name": "stdout",
     "output_type": "stream",
     "text": [
      "Fitting LightGBM model ...\n",
      "finished\n"
     ]
    }
   ],
   "source": [
    "#set parameters of lgb\n",
    "params = {}\n",
    "params['max_bin'] = 10\n",
    "params['learning_rate'] = 0.0022 # shrinkage_rate\n",
    "params['boosting_type'] = 'gbdt'\n",
    "params['objective'] = 'regression'\n",
    "params['metric'] = 'l1'          \n",
    "params['sub_feature'] = 0.35    # feature_fraction (small values => use very different submodels)\n",
    "params['bagging_fraction'] = 0.85 # sub_row\n",
    "params['bagging_freq'] = 40\n",
    "params['num_leaves'] = 512        # num_leaf\n",
    "params['min_data'] = 500         # min_data_in_leaf\n",
    "params['min_hessian'] = 0.05     # min_sum_hessian_in_leaf\n",
    "params['verbose'] = 0\n",
    "params['feature_fraction_seed'] = 2\n",
    "params['bagging_seed'] = 3\n",
    "\n",
    "np.random.seed(0)\n",
    "random.seed(0)\n",
    "\n",
    "print(\"Fitting LightGBM model ...\")\n",
    "lgb_model = lgb.train(params, d_train, 430)\n",
    "print(\"finished\")"
   ]
  },
  {
   "cell_type": "code",
   "execution_count": 45,
   "metadata": {},
   "outputs": [
    {
     "data": {
      "text/plain": [
       "<lightgbm.basic.Booster at 0x1a2fa8b828>"
      ]
     },
     "execution_count": 45,
     "metadata": {},
     "output_type": "execute_result"
    }
   ],
   "source": [
    "lgb_model.save_model('lgb_model_logerror.txt')"
   ]
  },
  {
   "cell_type": "code",
   "execution_count": 46,
   "metadata": {},
   "outputs": [
    {
     "data": {
      "text/plain": [
       "0"
      ]
     },
     "execution_count": 46,
     "metadata": {},
     "output_type": "execute_result"
    }
   ],
   "source": [
    "del d_train; gc.collect()\n",
    "del x_train; gc.collect()"
   ]
  },
  {
   "cell_type": "code",
   "execution_count": 47,
   "metadata": {},
   "outputs": [],
   "source": [
    "lgb_model = lgb.Booster(model_file='lgb_model_logerror.txt')"
   ]
  },
  {
   "cell_type": "code",
   "execution_count": 48,
   "metadata": {},
   "outputs": [
    {
     "name": "stdout",
     "output_type": "stream",
     "text": [
      "Preparing for LightGBM prediction ...\n",
      "Reading files ...\n"
     ]
    }
   ],
   "source": [
    "print(\"Preparing for LightGBM prediction ...\")\n",
    "print(\"Reading files ...\")\n",
    "sample = pd.read_csv('input/sample_submission.csv')"
   ]
  },
  {
   "cell_type": "code",
   "execution_count": 49,
   "metadata": {},
   "outputs": [
    {
     "name": "stdout",
     "output_type": "stream",
     "text": [
      "...\n",
      "Merge with property data ...\n",
      "...\n"
     ]
    },
    {
     "data": {
      "text/plain": [
       "35"
      ]
     },
     "execution_count": 49,
     "metadata": {},
     "output_type": "execute_result"
    }
   ],
   "source": [
    "print(\"...\")\n",
    "sample['parcelid'] = sample['ParcelId']\n",
    "print(\"Merge with property data ...\")\n",
    "df_test = sample.merge(prop, on='parcelid', how='left')\n",
    "print(\"...\")\n",
    "del sample, prop; gc.collect()"
   ]
  },
  {
   "cell_type": "code",
   "execution_count": 50,
   "metadata": {},
   "outputs": [
    {
     "name": "stdout",
     "output_type": "stream",
     "text": [
      "...\n",
      "...\n"
     ]
    },
    {
     "data": {
      "text/plain": [
       "7"
      ]
     },
     "execution_count": 50,
     "metadata": {},
     "output_type": "execute_result"
    }
   ],
   "source": [
    "print(\"...\")\n",
    "x_test = df_test[train_columns]\n",
    "print(\"...\")\n",
    "del df_test; gc.collect()"
   ]
  },
  {
   "cell_type": "code",
   "execution_count": 51,
   "metadata": {},
   "outputs": [
    {
     "name": "stdout",
     "output_type": "stream",
     "text": [
      "Preparing x_test...\n"
     ]
    }
   ],
   "source": [
    "print(\"Preparing x_test...\")\n",
    "for c in x_test.dtypes[x_test.dtypes == object].index.values:\n",
    "    x_test[c] = (x_test[c] == True)"
   ]
  },
  {
   "cell_type": "code",
   "execution_count": 52,
   "metadata": {},
   "outputs": [
    {
     "name": "stdout",
     "output_type": "stream",
     "text": [
      "...\n"
     ]
    }
   ],
   "source": [
    "print(\"...\")\n",
    "x_test = x_test.values.astype(np.float32, copy=False)"
   ]
  },
  {
   "cell_type": "code",
   "execution_count": 53,
   "metadata": {},
   "outputs": [
    {
     "name": "stdout",
     "output_type": "stream",
     "text": [
      "Start LightGBM prediction ...\n"
     ]
    }
   ],
   "source": [
    "print(\"Start LightGBM prediction ...\")\n",
    "lgb_pred = lgb_model.predict(x_test)"
   ]
  },
  {
   "cell_type": "code",
   "execution_count": 54,
   "metadata": {},
   "outputs": [
    {
     "name": "stdout",
     "output_type": "stream",
     "text": [
      "<class 'numpy.ndarray'>\n"
     ]
    }
   ],
   "source": [
    "print(type(lgb_pred))"
   ]
  },
  {
   "cell_type": "code",
   "execution_count": 55,
   "metadata": {},
   "outputs": [
    {
     "name": "stdout",
     "output_type": "stream",
     "text": [
      "first LightGBM predictions:\n",
      "          0\n",
      "0  0.012263\n",
      "1  0.012263\n",
      "2  0.012915\n",
      "3  0.012915\n",
      "4  0.012387\n"
     ]
    }
   ],
   "source": [
    "del x_test; gc.collect()\n",
    "\n",
    "print( \"first LightGBM predictions:\" )\n",
    "print( pd.DataFrame(lgb_pred).head())"
   ]
  },
  {
   "cell_type": "code",
   "execution_count": 56,
   "metadata": {},
   "outputs": [
    {
     "name": "stdout",
     "output_type": "stream",
     "text": [
      "Reading data...\n"
     ]
    },
    {
     "name": "stderr",
     "output_type": "stream",
     "text": [
      "/Users/huxuexin/anaconda3/lib/python3.6/site-packages/IPython/core/interactiveshell.py:2785: DtypeWarning: Columns (22,32,34,49,55) have mixed types. Specify dtype option on import or set low_memory=False.\n",
      "  interactivity=interactivity, compiler=compiler, result=result)\n",
      "/Users/huxuexin/anaconda3/lib/python3.6/site-packages/IPython/core/interactiveshell.py:2785: DtypeWarning: Columns (49) have mixed types. Specify dtype option on import or set low_memory=False.\n",
      "  interactivity=interactivity, compiler=compiler, result=result)\n"
     ]
    },
    {
     "name": "stdout",
     "output_type": "stream",
     "text": [
      "finished\n"
     ]
    }
   ],
   "source": [
    "print(\"Reading data...\")\n",
    "#read training data\n",
    "list_p = []\n",
    "list_p.append(pd.read_csv('input/properties_2016.csv'))\n",
    "list_p.append(pd.read_csv('input/properties_2017.csv'))\n",
    "prop = pd.concat(list_p)\n",
    "\n",
    "list_t = []\n",
    "list_t.append(pd.read_csv('input/train_2016_v2.csv'))\n",
    "list_t.append(pd.read_csv('input/train_2017.csv'))\n",
    "train = pd.concat(list_t)\n",
    "print(\"finished\")"
   ]
  },
  {
   "cell_type": "code",
   "execution_count": 57,
   "metadata": {},
   "outputs": [
    {
     "name": "stdout",
     "output_type": "stream",
     "text": [
      "drop out outliers...\n"
     ]
    }
   ],
   "source": [
    "print(\"drop out outliers...\")\n",
    "ulimit = np.percentile(train.logerror.values, 99)\n",
    "llimit = np.percentile(train.logerror.values, 1)\n",
    "train=train[train.logerror < ulimit]\n",
    "train=train[train.logerror > llimit]"
   ]
  },
  {
   "cell_type": "code",
   "execution_count": 58,
   "metadata": {},
   "outputs": [
    {
     "name": "stdout",
     "output_type": "stream",
     "text": [
      "processing data for XGBoost ...\n",
      "finished\n"
     ]
    }
   ],
   "source": [
    "print( \"processing data for XGBoost ...\")\n",
    "for c in prop.columns:\n",
    "    prop[c]=prop[c].fillna(-1)\n",
    "    if prop[c].dtype == 'object':\n",
    "        lbl = LabelEncoder()\n",
    "        lbl.fit(list(prop[c].values))\n",
    "        prop[c] = lbl.transform(list(prop[c].values))\n",
    "print(\"finished\")"
   ]
  },
  {
   "cell_type": "code",
   "execution_count": 59,
   "metadata": {},
   "outputs": [
    {
     "name": "stdout",
     "output_type": "stream",
     "text": [
      "(329058, 16) (329058,)\n"
     ]
    }
   ],
   "source": [
    "df_train = train.merge(prop, how='left', on='parcelid')\n",
    "df_train.fillna(df_train.median(),inplace = True)\n",
    "\n",
    "x_train = df_train[['basementsqft', 'buildingqualitytypeid','threequarterbathnbr','finishedfloor1squarefeet',\n",
    "                    'finishedsquarefeet6','finishedsquarefeet15','fireplacecnt','fullbathcnt','garagecarcnt',\n",
    "                    'garagetotalsqft','lotsizesquarefeet','poolsizesum','roomcnt','yearbuilt','latitude','longitude']]\n",
    "y_train = df_train['logerror'].values\n",
    "print(x_train.shape, y_train.shape)\n",
    "y_mean = np.mean(y_train)"
   ]
  },
  {
   "cell_type": "code",
   "execution_count": 77,
   "metadata": {},
   "outputs": [
    {
     "name": "stdout",
     "output_type": "stream",
     "text": [
      "setting up data for XGBoost...\n"
     ]
    }
   ],
   "source": [
    "#set parameters of xgboost\n",
    "print(\"setting up data for XGBoost...\")\n",
    "# xgboost params\n",
    "xgb_params = {\n",
    "    'eta': 0.038,\n",
    "    'max_depth': 5,\n",
    "    'subsample': 0.80,\n",
    "    'objective': 'reg:linear',\n",
    "    'eval_metric': 'mae',\n",
    "    'lambda': 0.8,   \n",
    "    'alpha': 0.4, \n",
    "    'base_score': y_mean,\n",
    "    'silent': 1\n",
    "}\n",
    "num_boost_rounds = 250\n",
    "dtrain = xgb.DMatrix(x_train, y_train)"
   ]
  },
  {
   "cell_type": "code",
   "execution_count": 78,
   "metadata": {},
   "outputs": [
    {
     "name": "stdout",
     "output_type": "stream",
     "text": [
      "training xgboost...\n",
      "finished\n"
     ]
    }
   ],
   "source": [
    "#train xgboost\n",
    "print(\"training xgboost...\")\n",
    "xgb_model = xgb.train(dict(xgb_params, silent=1), dtrain, num_boost_round=num_boost_rounds)\n",
    "print(\"finished\")"
   ]
  },
  {
   "cell_type": "code",
   "execution_count": 62,
   "metadata": {},
   "outputs": [],
   "source": [
    "xgb_model.save_model('xgb_model_logerror.txt')\n"
   ]
  },
  {
   "cell_type": "code",
   "execution_count": 64,
   "metadata": {},
   "outputs": [
    {
     "name": "stdout",
     "output_type": "stream",
     "text": [
      "Preparing for LightGBM prediction ...\n",
      "Reading files ...\n"
     ]
    }
   ],
   "source": [
    "print(\"Preparing for LightGBM prediction ...\")\n",
    "print(\"Reading files ...\")\n",
    "sample = pd.read_csv('input/sample_submission.csv')\n"
   ]
  },
  {
   "cell_type": "code",
   "execution_count": 65,
   "metadata": {},
   "outputs": [
    {
     "name": "stdout",
     "output_type": "stream",
     "text": [
      "...\n",
      "Merge with property data ...\n",
      "...\n"
     ]
    },
    {
     "data": {
      "text/plain": [
       "169"
      ]
     },
     "execution_count": 65,
     "metadata": {},
     "output_type": "execute_result"
    }
   ],
   "source": [
    "print(\"...\")\n",
    "sample['parcelid'] = sample['ParcelId']\n",
    "print(\"Merge with property data ...\")\n",
    "df_test = sample.merge(prop, on='parcelid', how='left')\n",
    "print(\"...\")\n",
    "del sample, prop; gc.collect()"
   ]
  },
  {
   "cell_type": "code",
   "execution_count": 66,
   "metadata": {},
   "outputs": [
    {
     "name": "stdout",
     "output_type": "stream",
     "text": [
      "...\n",
      "...\n"
     ]
    },
    {
     "data": {
      "text/plain": [
       "7"
      ]
     },
     "execution_count": 66,
     "metadata": {},
     "output_type": "execute_result"
    }
   ],
   "source": [
    "print(\"...\")\n",
    "x_test = df_test[train_columns]\n",
    "print(\"...\")\n",
    "del df_test; gc.collect()"
   ]
  },
  {
   "cell_type": "code",
   "execution_count": 67,
   "metadata": {},
   "outputs": [],
   "source": [
    "dtest = xgb.DMatrix(x_test)"
   ]
  },
  {
   "cell_type": "code",
   "execution_count": 79,
   "metadata": {},
   "outputs": [
    {
     "name": "stdout",
     "output_type": "stream",
     "text": [
      "start XGBoost prediction...\n"
     ]
    }
   ],
   "source": [
    "print( \"start XGBoost prediction...\")\n",
    "xgb_pred = xgb_model.predict(dtest)\n"
   ]
  },
  {
   "cell_type": "code",
   "execution_count": 80,
   "metadata": {},
   "outputs": [
    {
     "name": "stdout",
     "output_type": "stream",
     "text": [
      "first XGBoost predictions:\n",
      "          0\n",
      "0  0.024022\n",
      "1  0.024022\n",
      "2  0.009763\n",
      "3  0.009763\n",
      "4  0.055549\n"
     ]
    }
   ],
   "source": [
    "print( \"first XGBoost predictions:\" )\n",
    "print( pd.DataFrame(xgb_pred).head() )"
   ]
  },
  {
   "cell_type": "code",
   "execution_count": 81,
   "metadata": {},
   "outputs": [
    {
     "name": "stdout",
     "output_type": "stream",
     "text": [
      "Combined XGBoost and Light GBM predictions:\n",
      "          0\n",
      "0  0.021670\n",
      "1  0.021670\n",
      "2  0.010394\n",
      "3  0.010394\n",
      "4  0.046916\n"
     ]
    }
   ],
   "source": [
    "#combine xgb and lgb\n",
    "xgb_pred = XGB_WEIGHT*xgb_pred + (1-XGB_WEIGHT)*lgb_pred\n",
    "#xgb_pred = xgb_pred1\n",
    "\n",
    "print( \"Combined XGBoost and Light GBM predictions:\" )\n",
    "print( pd.DataFrame(xgb_pred).head() )"
   ]
  },
  {
   "cell_type": "code",
   "execution_count": null,
   "metadata": {},
   "outputs": [],
   "source": []
  }
 ],
 "metadata": {
  "kernelspec": {
   "display_name": "Python 3",
   "language": "python",
   "name": "python3"
  },
  "language_info": {
   "codemirror_mode": {
    "name": "ipython",
    "version": 3
   },
   "file_extension": ".py",
   "mimetype": "text/x-python",
   "name": "python",
   "nbconvert_exporter": "python",
   "pygments_lexer": "ipython3",
   "version": "3.6.5"
  }
 },
 "nbformat": 4,
 "nbformat_minor": 2
}
